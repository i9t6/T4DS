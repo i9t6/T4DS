{
 "cells": [
  {
   "cell_type": "markdown",
   "id": "79339510",
   "metadata": {},
   "source": [
    "# Data Science Tools and Ecosystem"
   ]
  },
  {
   "cell_type": "markdown",
   "id": "dfba3d60",
   "metadata": {},
   "source": [
    "In this notebook, Data Science Tools and Ecosystem are summarized."
   ]
  },
  {
   "cell_type": "markdown",
   "id": "eb055f6d",
   "metadata": {},
   "source": [
    "__Objectives:__\n",
    "* Programing languages for DC\n",
    "* Commun Libraryes for DC\n",
    "* DC Tools\n",
    "* Python samples using Jupyter notebook"
   ]
  },
  {
   "cell_type": "markdown",
   "id": "8a130eb4",
   "metadata": {},
   "source": [
    "Some of the popular languages that Data Scientists use are:\n",
    "1. Python\n",
    "2. R\n",
    "3. Julia"
   ]
  },
  {
   "cell_type": "markdown",
   "id": "80740e60",
   "metadata": {},
   "source": [
    "Some of the communly used libraries used by Data Scientists include:\n",
    "1. scikit-learn\n",
    "2. matplotlib\n",
    "3. dplyr\n",
    "4. caret"
   ]
  },
  {
   "cell_type": "markdown",
   "id": "845b3546",
   "metadata": {},
   "source": [
    "|Data Science Tools|\n",
    "|------------------|\n",
    "|Jupyterlab|\n",
    "|Google Colab|\n",
    "|VS Code|\n",
    "\n",
    "\n"
   ]
  },
  {
   "cell_type": "markdown",
   "id": "2e4eb001",
   "metadata": {},
   "source": [
    "### Below are a few examples of evaluating arithmetic expressions in Python"
   ]
  },
  {
   "cell_type": "code",
   "execution_count": 1,
   "id": "325f35e2",
   "metadata": {},
   "outputs": [
    {
     "data": {
      "text/plain": [
       "17"
      ]
     },
     "execution_count": 1,
     "metadata": {},
     "output_type": "execute_result"
    }
   ],
   "source": [
    "# This a simple arithmetic expression to mutiply then add integers\n",
    "(3*4)+5"
   ]
  },
  {
   "cell_type": "code",
   "execution_count": 6,
   "id": "db02428a",
   "metadata": {},
   "outputs": [
    {
     "name": "stdout",
     "output_type": "stream",
     "text": [
      " 200 Minutes are = to 3 hours and minutes 20\n"
     ]
    }
   ],
   "source": [
    "# This will convert 200 minutes to hours by diving by 60\n",
    "print(f' 200 Minutes are = to {int(200/60)} hours and minutes {200%60}')"
   ]
  },
  {
   "cell_type": "markdown",
   "id": "687eb402",
   "metadata": {},
   "source": [
    "## Autor\n",
    "Francisco Quiroz\n",
    "\n",
    "git@github.com:i9t6/T4DS.git"
   ]
  }
 ],
 "metadata": {
  "kernelspec": {
   "display_name": "ai",
   "language": "python",
   "name": "python3"
  },
  "language_info": {
   "codemirror_mode": {
    "name": "ipython",
    "version": 3
   },
   "file_extension": ".py",
   "mimetype": "text/x-python",
   "name": "python",
   "nbconvert_exporter": "python",
   "pygments_lexer": "ipython3",
   "version": "3.12.9"
  }
 },
 "nbformat": 4,
 "nbformat_minor": 5
}
